{
 "cells": [
  {
   "cell_type": "code",
   "execution_count": null,
   "id": "eb35fb9f",
   "metadata": {},
   "outputs": [],
   "source": [
    "import requests\n",
    "from bs4 import BeautifulSoup # using BeautifulSoup when extracting links from HTML pages\n",
    "import pandas as pd # using pandas when extracting tables from HTML pages\n",
    "import time"
   ]
  },
  {
   "cell_type": "code",
   "execution_count": null,
   "id": "da19f022",
   "metadata": {},
   "outputs": [],
   "source": [
    "years = list(range(2024, 2018, -1)) #(2024, 2018, -1)\n",
    "years"
   ]
  },
  {
   "cell_type": "code",
   "execution_count": null,
   "id": "f3fee8c4",
   "metadata": {},
   "outputs": [],
   "source": [
    "all_matches = []"
   ]
  },
  {
   "cell_type": "code",
   "execution_count": null,
   "id": "40c236c8",
   "metadata": {},
   "outputs": [],
   "source": [
    "standings_url = \"https://fbref.com/en/comps/9/Premier-League-Stats\"\n",
    "main_url = \"https://fbref.com\"\n",
    "\n",
    "for year in years:\n",
    "    data = requests.get(standings_url)\n",
    "    soup = BeautifulSoup(data.text)\n",
    "    standings_table = soup.select('table.stats_table')[0]\n",
    "    \n",
    "    links = standings_table.find_all('a')\n",
    "    links = [l.get(\"href\") for l in links]\n",
    "    links = [l for l in links if '/squads/' in l]\n",
    "    team_urls = [f\"{main_url}{l}\" for l in links]\n",
    "    \n",
    "    previous_season = soup.select('a.prev')[0].get(\"href\")\n",
    "    standings_url = f\"{main_url}{previous_season}\"\n",
    "    \n",
    "    for team_url in team_urls:\n",
    "        team_name = team_url.split(\"/\")[-1].replace(\"-Stats\", \"\").replace(\"-\", \" \")\n",
    "        \n",
    "        team_data = requests.get(team_url)\n",
    "        matches = pd.read_html(team_data.text, match=\"Scores & Fixtures\")[0]\n",
    "        \n",
    "        soup = BeautifulSoup(team_data.text)\n",
    "        links = soup.find_all('a')\n",
    "        links = [l.get(\"href\") for l in links]\n",
    "        links = [l for l in links if l and 'all_comps/shooting/' in l]\n",
    "        shooting_link = links[0]\n",
    "        shooting_url = f\"{main_url}{shooting_link}\"\n",
    "        shooting_data = requests.get(shooting_url)\n",
    "        shooting = pd.read_html(shooting_data.text, match = \"Shooting\")\n",
    "        \n",
    "        shooting_for = shooting[0]\n",
    "        shooting_agst = shooting[1]\n",
    "        shooting_for.columns = shooting_for.columns.droplevel()\n",
    "        shooting_agst.columns = shooting_agst.columns.droplevel()\n",
    "        \n",
    "        old_columns = shooting_agst.columns.tolist()\n",
    "        new_columns = {old_col: \"Opp\" + old_col for old_col in old_columns}\n",
    "        shooting_agst.rename(columns = new_columns, inplace = True)\n",
    "        shooting_agst.rename(columns = {'OppDate': 'Date'}, inplace = True)\n",
    "        \n",
    "        try:\n",
    "            team_all_data = matches.merge(shooting_for[[\"Date\", \"Sh\", \"SoT\", \"Dist\", \"FK\", \"PK\", \"PKatt\"]], on = \"Date\")\n",
    "            team_all_data = team_all_data.merge(shooting_agst[[\"Date\", \"OppSh\", \"OppSoT\", \"OppDist\", \"OppFK\", \"OppPK\", \"OppPKatt\"]], on = \"Date\")\n",
    "        except ValueError:\n",
    "            continue\n",
    "            \n",
    "        team_all_data[\"Season\"] = year\n",
    "        team_all_data[\"Team\"] = team_name\n",
    "        \n",
    "        team_pl_data = team_all_data[team_all_data[\"Comp\"] == \"Premier League\"]\n",
    "        \n",
    "        all_matches.append(team_pl_data)\n",
    "        time.sleep(1)"
   ]
  },
  {
   "cell_type": "code",
   "execution_count": null,
   "id": "284c6dc9",
   "metadata": {},
   "outputs": [],
   "source": [
    "match_df = pd.concat(all_matches)\n",
    "match_df.columns = [c.lower() for c in match_df.columns]"
   ]
  },
  {
   "cell_type": "code",
   "execution_count": null,
   "id": "8a7a9ab6",
   "metadata": {},
   "outputs": [],
   "source": [
    "match_df.to_csv(\"PL_Matches.csv\")"
   ]
  },
  {
   "cell_type": "code",
   "execution_count": null,
   "id": "57e913f4",
   "metadata": {},
   "outputs": [],
   "source": [
    "match_df"
   ]
  },
  {
   "cell_type": "code",
   "execution_count": null,
   "id": "e9c66119",
   "metadata": {},
   "outputs": [],
   "source": [
    "#end here"
   ]
  },
  {
   "cell_type": "code",
   "execution_count": null,
   "id": "733f154a",
   "metadata": {},
   "outputs": [],
   "source": [
    "standings_url = \"https://fbref.com/en/comps/9/Premier-League-Stats\""
   ]
  },
  {
   "cell_type": "code",
   "execution_count": null,
   "id": "3a5c37c8",
   "metadata": {},
   "outputs": [],
   "source": [
    "data = requests.get(standings_url)"
   ]
  },
  {
   "cell_type": "code",
   "execution_count": null,
   "id": "23772d36",
   "metadata": {},
   "outputs": [],
   "source": [
    "data.text"
   ]
  },
  {
   "cell_type": "code",
   "execution_count": null,
   "id": "4de2f811",
   "metadata": {},
   "outputs": [],
   "source": [
    "soup = BeautifulSoup(data.text)"
   ]
  },
  {
   "cell_type": "code",
   "execution_count": null,
   "id": "5de7eaf7",
   "metadata": {},
   "outputs": [],
   "source": [
    "standings_table = soup.select('table.stats_table')[0]"
   ]
  },
  {
   "cell_type": "code",
   "execution_count": null,
   "id": "29460810",
   "metadata": {},
   "outputs": [],
   "source": [
    "links = standings_table.find_all('a')"
   ]
  },
  {
   "cell_type": "code",
   "execution_count": null,
   "id": "185e6add",
   "metadata": {},
   "outputs": [],
   "source": [
    "links = [l.get(\"href\") for l in links]"
   ]
  },
  {
   "cell_type": "code",
   "execution_count": null,
   "id": "a0f87e32",
   "metadata": {},
   "outputs": [],
   "source": [
    "links = [l for l in links if '/squads/' in l]\n",
    "links"
   ]
  },
  {
   "cell_type": "code",
   "execution_count": null,
   "id": "4e15cb7a",
   "metadata": {},
   "outputs": [],
   "source": [
    "main_url = \"https://fbref.com\"\n",
    "team_urls = [f\"{main_url}{l}\" for l in links]\n",
    "team_urls"
   ]
  },
  {
   "cell_type": "code",
   "execution_count": null,
   "id": "38e0499b",
   "metadata": {},
   "outputs": [],
   "source": [
    "team_url = team_urls[1] #Man City is currently 2nd"
   ]
  },
  {
   "cell_type": "code",
   "execution_count": null,
   "id": "e05ff38b",
   "metadata": {},
   "outputs": [],
   "source": [
    "team_data = requests.get(team_url)"
   ]
  },
  {
   "cell_type": "code",
   "execution_count": null,
   "id": "9d0abbb2",
   "metadata": {},
   "outputs": [],
   "source": [
    "team_data.text"
   ]
  },
  {
   "cell_type": "code",
   "execution_count": null,
   "id": "ebceaa1b",
   "metadata": {},
   "outputs": [],
   "source": [
    "matches = pd.read_html(team_data.text, match=\"Scores & Fixtures\")"
   ]
  },
  {
   "cell_type": "code",
   "execution_count": null,
   "id": "afb697ad",
   "metadata": {},
   "outputs": [],
   "source": [
    "matches = matches[0]\n",
    "matches"
   ]
  },
  {
   "cell_type": "code",
   "execution_count": null,
   "id": "d0084ae8",
   "metadata": {},
   "outputs": [],
   "source": [
    "soup = BeautifulSoup(team_data.text)"
   ]
  },
  {
   "cell_type": "code",
   "execution_count": null,
   "id": "2f3be8e9",
   "metadata": {},
   "outputs": [],
   "source": [
    "links = soup.find_all('a')"
   ]
  },
  {
   "cell_type": "code",
   "execution_count": null,
   "id": "2e03580b",
   "metadata": {},
   "outputs": [],
   "source": [
    "links = [l.get(\"href\") for l in links]"
   ]
  },
  {
   "cell_type": "code",
   "execution_count": null,
   "id": "8e1824f5",
   "metadata": {},
   "outputs": [],
   "source": [
    "links = [l for l in links if l and 'all_comps/shooting/' in l]\n",
    "links"
   ]
  },
  {
   "cell_type": "code",
   "execution_count": null,
   "id": "7e4681f0",
   "metadata": {},
   "outputs": [],
   "source": [
    "shooting_link = links[0]\n",
    "shooting_data = requests.get(f\"{main_url}{shooting_link}\")"
   ]
  },
  {
   "cell_type": "code",
   "execution_count": null,
   "id": "2520689b",
   "metadata": {},
   "outputs": [],
   "source": [
    "shooting_data.text"
   ]
  },
  {
   "cell_type": "code",
   "execution_count": null,
   "id": "5bf4fc13",
   "metadata": {},
   "outputs": [],
   "source": [
    "shooting = pd.read_html(shooting_data.text, match = \"Shooting\")"
   ]
  },
  {
   "cell_type": "code",
   "execution_count": null,
   "id": "c4a2e224",
   "metadata": {},
   "outputs": [],
   "source": [
    "shooting_for = shooting[0]\n",
    "shooting_agst = shooting[1]"
   ]
  },
  {
   "cell_type": "code",
   "execution_count": null,
   "id": "a037e9b4",
   "metadata": {},
   "outputs": [],
   "source": [
    "shooting_for.columns = shooting_for.columns.droplevel()\n",
    "shooting_agst.columns = shooting_agst.columns.droplevel()"
   ]
  },
  {
   "cell_type": "code",
   "execution_count": null,
   "id": "e259fa74",
   "metadata": {},
   "outputs": [],
   "source": [
    "shooting_for"
   ]
  },
  {
   "cell_type": "code",
   "execution_count": null,
   "id": "b4540b97",
   "metadata": {},
   "outputs": [],
   "source": [
    "shooting_agst"
   ]
  },
  {
   "cell_type": "code",
   "execution_count": null,
   "id": "4d9534d8",
   "metadata": {},
   "outputs": [],
   "source": [
    "old_columns = shooting_agst.columns.tolist()\n",
    "new_columns = {old_col: \"Opp\" + old_col for old_col in old_columns}\n",
    "shooting_agst.rename(columns = new_columns, inplace = True)\n",
    "shooting_agst.rename(columns = {'OppDate': 'Date'}, inplace = True)"
   ]
  },
  {
   "cell_type": "code",
   "execution_count": null,
   "id": "dd09353d",
   "metadata": {},
   "outputs": [],
   "source": [
    "team_all_data = matches.merge(shooting_for[[\"Date\", \"Sh\", \"SoT\", \"Dist\", \"FK\", \"PK\", \"PKatt\", \"xG\", \"npxG\"]], on = \"Date\")\n",
    "team_all_data = team_all_data.merge(shooting_agst[[\"Date\", \"OppSh\", \"OppSoT\", \"OppDist\", \"OppFK\", \"OppPK\", \"OppPKatt\", \"OppxG\", \"OppnpxG\"]], on = \"Date\")"
   ]
  },
  {
   "cell_type": "code",
   "execution_count": null,
   "id": "85aa4f26",
   "metadata": {},
   "outputs": [],
   "source": [
    "team_all_data"
   ]
  },
  {
   "cell_type": "code",
   "execution_count": null,
   "id": "f14aec51",
   "metadata": {},
   "outputs": [],
   "source": []
  }
 ],
 "metadata": {
  "kernelspec": {
   "display_name": "Python 3 (ipykernel)",
   "language": "python",
   "name": "python3"
  },
  "language_info": {
   "codemirror_mode": {
    "name": "ipython",
    "version": 3
   },
   "file_extension": ".py",
   "mimetype": "text/x-python",
   "name": "python",
   "nbconvert_exporter": "python",
   "pygments_lexer": "ipython3",
   "version": "3.9.7"
  }
 },
 "nbformat": 4,
 "nbformat_minor": 5
}
